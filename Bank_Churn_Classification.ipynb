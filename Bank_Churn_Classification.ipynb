{
 "cells": [
  {
   "cell_type": "code",
   "execution_count": 1,
   "id": "0af6e280-6cd0-4275-aad2-e0d872b62f7c",
   "metadata": {},
   "outputs": [],
   "source": [
    "#import data manipulation libraries\n",
    "import pandas as pd\n",
    "import numpy as np\n",
    "\n",
    "#import data visualization libraries\n",
    "import matplotlib.pyplot as plt\n",
    "import seaborn as sns\n",
    "\n",
    "#import filter warning libraries\n",
    "import warnings\n",
    "warnings.filterwarnings('ignore')\n",
    "\n",
    "#Import loggings\n",
    "import logging\n",
    "logging.basicConfig(level = logging.INFO,\n",
    "                    format = '%(asctime)s - %(levelname)s - %(message)s',\n",
    "                    filemode = 'w',\n",
    "                    filename = 'model.log', force = True)\n",
    "\n",
    "#Import Sci-kit Learn Libraries for model building\n",
    "from sklearn.preprocessing import MinMaxScaler, RobustScaler, StandardScaler #overfit,outlier,imbalance data-robust(imblearn)\n",
    "from sklearn.model_selection import train_test_split\n",
    "from sklearn.metrics import accuracy_score, confusion_matrix"
   ]
  },
  {
   "cell_type": "code",
   "execution_count": 2,
   "id": "1f0a6cfb-4bc6-4ad9-b005-e86a55945469",
   "metadata": {},
   "outputs": [
    {
     "data": {
      "text/html": [
       "<div>\n",
       "<style scoped>\n",
       "    .dataframe tbody tr th:only-of-type {\n",
       "        vertical-align: middle;\n",
       "    }\n",
       "\n",
       "    .dataframe tbody tr th {\n",
       "        vertical-align: top;\n",
       "    }\n",
       "\n",
       "    .dataframe thead th {\n",
       "        text-align: right;\n",
       "    }\n",
       "</style>\n",
       "<table border=\"1\" class=\"dataframe\">\n",
       "  <thead>\n",
       "    <tr style=\"text-align: right;\">\n",
       "      <th></th>\n",
       "      <th>RowNumber</th>\n",
       "      <th>CustomerId</th>\n",
       "      <th>Surname</th>\n",
       "      <th>CreditScore</th>\n",
       "      <th>Geography</th>\n",
       "      <th>Gender</th>\n",
       "      <th>Age</th>\n",
       "      <th>Tenure</th>\n",
       "      <th>Balance</th>\n",
       "      <th>NumOfProducts</th>\n",
       "      <th>HasCrCard</th>\n",
       "      <th>IsActiveMember</th>\n",
       "      <th>EstimatedSalary</th>\n",
       "      <th>Exited</th>\n",
       "    </tr>\n",
       "  </thead>\n",
       "  <tbody>\n",
       "    <tr>\n",
       "      <th>6632</th>\n",
       "      <td>6633</td>\n",
       "      <td>15779915</td>\n",
       "      <td>O'Loghlin</td>\n",
       "      <td>694</td>\n",
       "      <td>Spain</td>\n",
       "      <td>Male</td>\n",
       "      <td>31.0</td>\n",
       "      <td>5</td>\n",
       "      <td>0.00</td>\n",
       "      <td>1</td>\n",
       "      <td>1.0</td>\n",
       "      <td>0.0</td>\n",
       "      <td>35593.18</td>\n",
       "      <td>0</td>\n",
       "    </tr>\n",
       "    <tr>\n",
       "      <th>6285</th>\n",
       "      <td>6286</td>\n",
       "      <td>15655229</td>\n",
       "      <td>Craig</td>\n",
       "      <td>850</td>\n",
       "      <td>Germany</td>\n",
       "      <td>Female</td>\n",
       "      <td>35.0</td>\n",
       "      <td>7</td>\n",
       "      <td>114285.20</td>\n",
       "      <td>1</td>\n",
       "      <td>0.0</td>\n",
       "      <td>1.0</td>\n",
       "      <td>129660.59</td>\n",
       "      <td>0</td>\n",
       "    </tr>\n",
       "    <tr>\n",
       "      <th>4544</th>\n",
       "      <td>4545</td>\n",
       "      <td>15758081</td>\n",
       "      <td>Repina</td>\n",
       "      <td>673</td>\n",
       "      <td>Spain</td>\n",
       "      <td>Male</td>\n",
       "      <td>39.0</td>\n",
       "      <td>8</td>\n",
       "      <td>138160.00</td>\n",
       "      <td>1</td>\n",
       "      <td>1.0</td>\n",
       "      <td>1.0</td>\n",
       "      <td>110468.51</td>\n",
       "      <td>0</td>\n",
       "    </tr>\n",
       "    <tr>\n",
       "      <th>7071</th>\n",
       "      <td>7072</td>\n",
       "      <td>15709459</td>\n",
       "      <td>Oluchi</td>\n",
       "      <td>698</td>\n",
       "      <td>Spain</td>\n",
       "      <td>Female</td>\n",
       "      <td>63.0</td>\n",
       "      <td>5</td>\n",
       "      <td>0.00</td>\n",
       "      <td>1</td>\n",
       "      <td>1.0</td>\n",
       "      <td>1.0</td>\n",
       "      <td>173576.71</td>\n",
       "      <td>0</td>\n",
       "    </tr>\n",
       "    <tr>\n",
       "      <th>4475</th>\n",
       "      <td>4476</td>\n",
       "      <td>15578435</td>\n",
       "      <td>Langlands</td>\n",
       "      <td>640</td>\n",
       "      <td>France</td>\n",
       "      <td>Male</td>\n",
       "      <td>40.0</td>\n",
       "      <td>8</td>\n",
       "      <td>110340.68</td>\n",
       "      <td>1</td>\n",
       "      <td>1.0</td>\n",
       "      <td>1.0</td>\n",
       "      <td>157886.60</td>\n",
       "      <td>0</td>\n",
       "    </tr>\n",
       "    <tr>\n",
       "      <th>...</th>\n",
       "      <td>...</td>\n",
       "      <td>...</td>\n",
       "      <td>...</td>\n",
       "      <td>...</td>\n",
       "      <td>...</td>\n",
       "      <td>...</td>\n",
       "      <td>...</td>\n",
       "      <td>...</td>\n",
       "      <td>...</td>\n",
       "      <td>...</td>\n",
       "      <td>...</td>\n",
       "      <td>...</td>\n",
       "      <td>...</td>\n",
       "      <td>...</td>\n",
       "    </tr>\n",
       "    <tr>\n",
       "      <th>3150</th>\n",
       "      <td>3151</td>\n",
       "      <td>15795298</td>\n",
       "      <td>Olisaemeka</td>\n",
       "      <td>573</td>\n",
       "      <td>Germany</td>\n",
       "      <td>Female</td>\n",
       "      <td>35.0</td>\n",
       "      <td>9</td>\n",
       "      <td>206868.78</td>\n",
       "      <td>2</td>\n",
       "      <td>0.0</td>\n",
       "      <td>1.0</td>\n",
       "      <td>102986.15</td>\n",
       "      <td>0</td>\n",
       "    </tr>\n",
       "    <tr>\n",
       "      <th>2261</th>\n",
       "      <td>2262</td>\n",
       "      <td>15681402</td>\n",
       "      <td>Ngozichukwuka</td>\n",
       "      <td>763</td>\n",
       "      <td>Germany</td>\n",
       "      <td>Female</td>\n",
       "      <td>61.0</td>\n",
       "      <td>1</td>\n",
       "      <td>66101.89</td>\n",
       "      <td>1</td>\n",
       "      <td>1.0</td>\n",
       "      <td>1.0</td>\n",
       "      <td>143981.27</td>\n",
       "      <td>0</td>\n",
       "    </tr>\n",
       "    <tr>\n",
       "      <th>7280</th>\n",
       "      <td>7281</td>\n",
       "      <td>15611973</td>\n",
       "      <td>Tuan</td>\n",
       "      <td>804</td>\n",
       "      <td>France</td>\n",
       "      <td>Male</td>\n",
       "      <td>55.0</td>\n",
       "      <td>7</td>\n",
       "      <td>0.00</td>\n",
       "      <td>2</td>\n",
       "      <td>1.0</td>\n",
       "      <td>1.0</td>\n",
       "      <td>118752.60</td>\n",
       "      <td>0</td>\n",
       "    </tr>\n",
       "    <tr>\n",
       "      <th>4816</th>\n",
       "      <td>4817</td>\n",
       "      <td>15582841</td>\n",
       "      <td>Butusov</td>\n",
       "      <td>600</td>\n",
       "      <td>France</td>\n",
       "      <td>Male</td>\n",
       "      <td>29.0</td>\n",
       "      <td>8</td>\n",
       "      <td>0.00</td>\n",
       "      <td>2</td>\n",
       "      <td>0.0</td>\n",
       "      <td>1.0</td>\n",
       "      <td>34747.43</td>\n",
       "      <td>0</td>\n",
       "    </tr>\n",
       "    <tr>\n",
       "      <th>3986</th>\n",
       "      <td>3987</td>\n",
       "      <td>15794345</td>\n",
       "      <td>Ma</td>\n",
       "      <td>706</td>\n",
       "      <td>Spain</td>\n",
       "      <td>Male</td>\n",
       "      <td>38.0</td>\n",
       "      <td>8</td>\n",
       "      <td>0.00</td>\n",
       "      <td>2</td>\n",
       "      <td>0.0</td>\n",
       "      <td>1.0</td>\n",
       "      <td>46635.11</td>\n",
       "      <td>0</td>\n",
       "    </tr>\n",
       "  </tbody>\n",
       "</table>\n",
       "<p>10002 rows × 14 columns</p>\n",
       "</div>"
      ],
      "text/plain": [
       "      RowNumber  CustomerId        Surname  CreditScore Geography  Gender  \\\n",
       "6632       6633    15779915      O'Loghlin          694     Spain    Male   \n",
       "6285       6286    15655229          Craig          850   Germany  Female   \n",
       "4544       4545    15758081         Repina          673     Spain    Male   \n",
       "7071       7072    15709459         Oluchi          698     Spain  Female   \n",
       "4475       4476    15578435      Langlands          640    France    Male   \n",
       "...         ...         ...            ...          ...       ...     ...   \n",
       "3150       3151    15795298     Olisaemeka          573   Germany  Female   \n",
       "2261       2262    15681402  Ngozichukwuka          763   Germany  Female   \n",
       "7280       7281    15611973           Tuan          804    France    Male   \n",
       "4816       4817    15582841        Butusov          600    France    Male   \n",
       "3986       3987    15794345             Ma          706     Spain    Male   \n",
       "\n",
       "       Age  Tenure    Balance  NumOfProducts  HasCrCard  IsActiveMember  \\\n",
       "6632  31.0       5       0.00              1        1.0             0.0   \n",
       "6285  35.0       7  114285.20              1        0.0             1.0   \n",
       "4544  39.0       8  138160.00              1        1.0             1.0   \n",
       "7071  63.0       5       0.00              1        1.0             1.0   \n",
       "4475  40.0       8  110340.68              1        1.0             1.0   \n",
       "...    ...     ...        ...            ...        ...             ...   \n",
       "3150  35.0       9  206868.78              2        0.0             1.0   \n",
       "2261  61.0       1   66101.89              1        1.0             1.0   \n",
       "7280  55.0       7       0.00              2        1.0             1.0   \n",
       "4816  29.0       8       0.00              2        0.0             1.0   \n",
       "3986  38.0       8       0.00              2        0.0             1.0   \n",
       "\n",
       "      EstimatedSalary  Exited  \n",
       "6632         35593.18       0  \n",
       "6285        129660.59       0  \n",
       "4544        110468.51       0  \n",
       "7071        173576.71       0  \n",
       "4475        157886.60       0  \n",
       "...               ...     ...  \n",
       "3150        102986.15       0  \n",
       "2261        143981.27       0  \n",
       "7280        118752.60       0  \n",
       "4816         34747.43       0  \n",
       "3986         46635.11       0  \n",
       "\n",
       "[10002 rows x 14 columns]"
      ]
     },
     "execution_count": 2,
     "metadata": {},
     "output_type": "execute_result"
    }
   ],
   "source": [
    "#Import Dataset using pandas function\n",
    "url = 'https://raw.githubusercontent.com/sandeeprj16/Bank_Churn_Classification/refs/heads/main/Churn_Modelling.csv'\n",
    "df = pd.read_csv(url)\n",
    "df.sample(frac = 1) "
   ]
  },
  {
   "cell_type": "code",
   "execution_count": 3,
   "id": "810d3ebc-816f-4ba8-bcbc-9c1ea1e2014a",
   "metadata": {},
   "outputs": [
    {
     "name": "stdout",
     "output_type": "stream",
     "text": [
      "<class 'pandas.core.frame.DataFrame'>\n",
      "RangeIndex: 10002 entries, 0 to 10001\n",
      "Data columns (total 14 columns):\n",
      " #   Column           Non-Null Count  Dtype  \n",
      "---  ------           --------------  -----  \n",
      " 0   RowNumber        10002 non-null  int64  \n",
      " 1   CustomerId       10002 non-null  int64  \n",
      " 2   Surname          10002 non-null  object \n",
      " 3   CreditScore      10002 non-null  int64  \n",
      " 4   Geography        10001 non-null  object \n",
      " 5   Gender           10002 non-null  object \n",
      " 6   Age              10001 non-null  float64\n",
      " 7   Tenure           10002 non-null  int64  \n",
      " 8   Balance          10002 non-null  float64\n",
      " 9   NumOfProducts    10002 non-null  int64  \n",
      " 10  HasCrCard        10001 non-null  float64\n",
      " 11  IsActiveMember   10001 non-null  float64\n",
      " 12  EstimatedSalary  10002 non-null  float64\n",
      " 13  Exited           10002 non-null  int64  \n",
      "dtypes: float64(5), int64(6), object(3)\n",
      "memory usage: 1.1+ MB\n"
     ]
    }
   ],
   "source": [
    "#Dataset information\n",
    "df.info() "
   ]
  },
  {
   "cell_type": "code",
   "execution_count": 4,
   "id": "28c02ec7-105c-49f5-b5dc-a3c1d1f80244",
   "metadata": {},
   "outputs": [
    {
     "data": {
      "text/plain": [
       "<Axes: >"
      ]
     },
     "execution_count": 4,
     "metadata": {},
     "output_type": "execute_result"
    },
    {
     "data": {
      "image/png": "[encoded data removed]",
      "text/plain": [
       "<Figure size 640x480 with 1 Axes>"
      ]
     },
     "metadata": {},
     "output_type": "display_data"
    }
   ],
   "source": [
    "#Checking Null Values stats using Graphical method\n",
    "df.isnull().sum().plot(kind = 'barh')"
   ]
  },
  {
   "cell_type": "code",
   "execution_count": 5,
   "id": "dfcf0fc0-6305-44c1-8401-39b4ce27dc0f",
   "metadata": {},
   "outputs": [],
   "source": [
    "# Imputing Missing Values\n",
    "\n",
    "df['IsActiveMember'].fillna(df['IsActiveMember'].median(),inplace=True)"
   ]
  },
  {
   "cell_type": "code",
   "execution_count": 6,
   "id": "02eb1a05-27cd-4e8c-b30a-6a23383c1fe0",
   "metadata": {},
   "outputs": [],
   "source": [
    "df['HasCrCard'].fillna(df['HasCrCard'].median(),inplace=True)\n",
    "df['Age'].fillna(df['Age'].median(),inplace=True) #numerical impute with mean\n",
    "df['Geography'].fillna('France',inplace=True) #object impute with mode"
   ]
  },
  {
   "cell_type": "code",
   "execution_count": 7,
   "id": "fd167b0e-60c0-446d-81aa-6677a0fccb01",
   "metadata": {},
   "outputs": [
    {
     "data": {
      "text/plain": [
       "RowNumber          0\n",
       "CustomerId         0\n",
       "Surname            0\n",
       "CreditScore        0\n",
       "Geography          0\n",
       "Gender             0\n",
       "Age                0\n",
       "Tenure             0\n",
       "Balance            0\n",
       "NumOfProducts      0\n",
       "HasCrCard          0\n",
       "IsActiveMember     0\n",
       "EstimatedSalary    0\n",
       "Exited             0\n",
       "dtype: int64"
      ]
     },
     "execution_count": 7,
     "metadata": {},
     "output_type": "execute_result"
    }
   ],
   "source": [
    "df.isnull().sum()"
   ]
  },
  {
   "cell_type": "code",
   "execution_count": 8,
   "id": "018b2ffe-a669-4ad1-a8f9-ec1891574ba3",
   "metadata": {},
   "outputs": [
    {
     "data": {
      "text/plain": [
       "<Axes: >"
      ]
     },
     "execution_count": 8,
     "metadata": {},
     "output_type": "execute_result"
    },
    {
     "data": {
      "image/png": "[encoded data removed]",
      "text/plain": [
       "<Figure size 640x480 with 2 Axes>"
      ]
     },
     "metadata": {},
     "output_type": "display_data"
    }
   ],
   "source": [
    "sns.heatmap(df.isnull())"
   ]
  },
  {
   "cell_type": "code",
   "execution_count": 9,
   "id": "918550d4-88fc-4b78-ba3a-614d625bd3dc",
   "metadata": {},
   "outputs": [],
   "source": [
    "#Evaluate Descriptive stats: EDA\n",
    "\n",
    "# Step 1: Sagregate Categorical columns nd Numerical\n",
    "categorical_col = df.select_dtypes(include = 'object')\n",
    "numerical_col = df.select_dtypes(include = ['int64','float64']) #or exclude = 'object'"
   ]
  },
  {
   "cell_type": "code",
   "execution_count": 10,
   "id": "e5a9967e-558e-4e07-970e-366fecca045d",
   "metadata": {},
   "outputs": [
    {
     "data": {
      "text/html": [
       "<div>\n",
       "<style scoped>\n",
       "    .dataframe tbody tr th:only-of-type {\n",
       "        vertical-align: middle;\n",
       "    }\n",
       "\n",
       "    .dataframe tbody tr th {\n",
       "        vertical-align: top;\n",
       "    }\n",
       "\n",
       "    .dataframe thead th {\n",
       "        text-align: right;\n",
       "    }\n",
       "</style>\n",
       "<table border=\"1\" class=\"dataframe\">\n",
       "  <thead>\n",
       "    <tr style=\"text-align: right;\">\n",
       "      <th></th>\n",
       "      <th>Feauture</th>\n",
       "      <th>Count</th>\n",
       "      <th>Mean</th>\n",
       "      <th>Median</th>\n",
       "      <th>Mode</th>\n",
       "      <th>Minimum</th>\n",
       "      <th>Maximum</th>\n",
       "      <th>Q1</th>\n",
       "      <th>Q3</th>\n",
       "      <th>IQR</th>\n",
       "      <th>Std</th>\n",
       "      <th>skewness</th>\n",
       "      <th>kurtosis</th>\n",
       "      <th>Variance</th>\n",
       "      <th>Standard Deviation</th>\n",
       "    </tr>\n",
       "  </thead>\n",
       "  <tbody>\n",
       "    <tr>\n",
       "      <th>0</th>\n",
       "      <td>RowNumber</td>\n",
       "      <td>10002</td>\n",
       "      <td>5.001500e+03</td>\n",
       "      <td>5001.50</td>\n",
       "      <td>9999.00</td>\n",
       "      <td>1.00</td>\n",
       "      <td>10000.00</td>\n",
       "      <td>2501.25</td>\n",
       "      <td>7.501750e+03</td>\n",
       "      <td>5000.5000</td>\n",
       "      <td>2887.472338</td>\n",
       "      <td>-8.301804e-07</td>\n",
       "      <td>-1.200001</td>\n",
       "      <td>8.337497e+06</td>\n",
       "      <td>2887.472338</td>\n",
       "    </tr>\n",
       "    <tr>\n",
       "      <th>1</th>\n",
       "      <td>CustomerId</td>\n",
       "      <td>10002</td>\n",
       "      <td>1.569093e+07</td>\n",
       "      <td>15690732.00</td>\n",
       "      <td>15628319.00</td>\n",
       "      <td>15565701.00</td>\n",
       "      <td>15815690.00</td>\n",
       "      <td>15628524.75</td>\n",
       "      <td>1.575323e+07</td>\n",
       "      <td>124700.7500</td>\n",
       "      <td>71931.769345</td>\n",
       "      <td>1.379949e-03</td>\n",
       "      <td>-1.195972</td>\n",
       "      <td>5.174179e+09</td>\n",
       "      <td>71931.769345</td>\n",
       "    </tr>\n",
       "    <tr>\n",
       "      <th>2</th>\n",
       "      <td>CreditScore</td>\n",
       "      <td>10002</td>\n",
       "      <td>6.505551e+02</td>\n",
       "      <td>652.00</td>\n",
       "      <td>850.00</td>\n",
       "      <td>350.00</td>\n",
       "      <td>850.00</td>\n",
       "      <td>584.00</td>\n",
       "      <td>7.180000e+02</td>\n",
       "      <td>134.0000</td>\n",
       "      <td>96.661615</td>\n",
       "      <td>-7.187787e-02</td>\n",
       "      <td>-0.426340</td>\n",
       "      <td>9.343468e+03</td>\n",
       "      <td>96.661615</td>\n",
       "    </tr>\n",
       "    <tr>\n",
       "      <th>3</th>\n",
       "      <td>Age</td>\n",
       "      <td>10002</td>\n",
       "      <td>3.892212e+01</td>\n",
       "      <td>37.00</td>\n",
       "      <td>37.00</td>\n",
       "      <td>18.00</td>\n",
       "      <td>92.00</td>\n",
       "      <td>32.00</td>\n",
       "      <td>4.400000e+01</td>\n",
       "      <td>12.0000</td>\n",
       "      <td>10.486693</td>\n",
       "      <td>1.011392e+00</td>\n",
       "      <td>1.396161</td>\n",
       "      <td>1.099707e+02</td>\n",
       "      <td>10.486693</td>\n",
       "    </tr>\n",
       "    <tr>\n",
       "      <th>4</th>\n",
       "      <td>Tenure</td>\n",
       "      <td>10002</td>\n",
       "      <td>5.012498e+00</td>\n",
       "      <td>5.00</td>\n",
       "      <td>2.00</td>\n",
       "      <td>0.00</td>\n",
       "      <td>10.00</td>\n",
       "      <td>3.00</td>\n",
       "      <td>7.000000e+00</td>\n",
       "      <td>4.0000</td>\n",
       "      <td>2.891973</td>\n",
       "      <td>1.126740e-02</td>\n",
       "      <td>-1.165051</td>\n",
       "      <td>8.363507e+00</td>\n",
       "      <td>2.891973</td>\n",
       "    </tr>\n",
       "    <tr>\n",
       "      <th>5</th>\n",
       "      <td>Balance</td>\n",
       "      <td>10002</td>\n",
       "      <td>7.649111e+04</td>\n",
       "      <td>97198.54</td>\n",
       "      <td>0.00</td>\n",
       "      <td>0.00</td>\n",
       "      <td>250898.09</td>\n",
       "      <td>0.00</td>\n",
       "      <td>1.276478e+05</td>\n",
       "      <td>127647.8400</td>\n",
       "      <td>62393.474144</td>\n",
       "      <td>-1.412948e-01</td>\n",
       "      <td>-1.489231</td>\n",
       "      <td>3.892946e+09</td>\n",
       "      <td>62393.474144</td>\n",
       "    </tr>\n",
       "    <tr>\n",
       "      <th>6</th>\n",
       "      <td>NumOfProducts</td>\n",
       "      <td>10002</td>\n",
       "      <td>1.530194e+00</td>\n",
       "      <td>1.00</td>\n",
       "      <td>1.00</td>\n",
       "      <td>1.00</td>\n",
       "      <td>4.00</td>\n",
       "      <td>1.00</td>\n",
       "      <td>2.000000e+00</td>\n",
       "      <td>1.0000</td>\n",
       "      <td>0.581639</td>\n",
       "      <td>7.454846e-01</td>\n",
       "      <td>0.582777</td>\n",
       "      <td>3.383043e-01</td>\n",
       "      <td>0.581639</td>\n",
       "    </tr>\n",
       "    <tr>\n",
       "      <th>7</th>\n",
       "      <td>HasCrCard</td>\n",
       "      <td>10002</td>\n",
       "      <td>7.055589e-01</td>\n",
       "      <td>1.00</td>\n",
       "      <td>1.00</td>\n",
       "      <td>0.00</td>\n",
       "      <td>1.00</td>\n",
       "      <td>0.00</td>\n",
       "      <td>1.000000e+00</td>\n",
       "      <td>1.0000</td>\n",
       "      <td>0.455814</td>\n",
       "      <td>-9.021225e-01</td>\n",
       "      <td>-1.186412</td>\n",
       "      <td>2.077663e-01</td>\n",
       "      <td>0.455814</td>\n",
       "    </tr>\n",
       "    <tr>\n",
       "      <th>8</th>\n",
       "      <td>IsActiveMember</td>\n",
       "      <td>10002</td>\n",
       "      <td>5.149970e-01</td>\n",
       "      <td>1.00</td>\n",
       "      <td>1.00</td>\n",
       "      <td>0.00</td>\n",
       "      <td>1.00</td>\n",
       "      <td>0.00</td>\n",
       "      <td>1.000000e+00</td>\n",
       "      <td>1.0000</td>\n",
       "      <td>0.499800</td>\n",
       "      <td>-6.002401e-02</td>\n",
       "      <td>-1.996796</td>\n",
       "      <td>2.498001e-01</td>\n",
       "      <td>0.499800</td>\n",
       "    </tr>\n",
       "    <tr>\n",
       "      <th>9</th>\n",
       "      <td>EstimatedSalary</td>\n",
       "      <td>10002</td>\n",
       "      <td>1.000833e+05</td>\n",
       "      <td>100185.24</td>\n",
       "      <td>24924.92</td>\n",
       "      <td>11.58</td>\n",
       "      <td>199992.48</td>\n",
       "      <td>50983.75</td>\n",
       "      <td>1.493837e+05</td>\n",
       "      <td>98399.9025</td>\n",
       "      <td>57508.117802</td>\n",
       "      <td>2.320765e-03</td>\n",
       "      <td>-1.181446</td>\n",
       "      <td>3.307184e+09</td>\n",
       "      <td>57508.117802</td>\n",
       "    </tr>\n",
       "    <tr>\n",
       "      <th>10</th>\n",
       "      <td>Exited</td>\n",
       "      <td>10002</td>\n",
       "      <td>2.037592e-01</td>\n",
       "      <td>0.00</td>\n",
       "      <td>0.00</td>\n",
       "      <td>0.00</td>\n",
       "      <td>1.00</td>\n",
       "      <td>0.00</td>\n",
       "      <td>0.000000e+00</td>\n",
       "      <td>0.0000</td>\n",
       "      <td>0.402812</td>\n",
       "      <td>1.471157e+00</td>\n",
       "      <td>0.164336</td>\n",
       "      <td>1.622576e-01</td>\n",
       "      <td>0.402812</td>\n",
       "    </tr>\n",
       "  </tbody>\n",
       "</table>\n",
       "</div>"
      ],
      "text/plain": [
       "           Feauture  Count          Mean       Median         Mode  \\\n",
       "0         RowNumber  10002  5.001500e+03      5001.50      9999.00   \n",
       "1        CustomerId  10002  1.569093e+07  15690732.00  15628319.00   \n",
       "2       CreditScore  10002  6.505551e+02       652.00       850.00   \n",
       "3               Age  10002  3.892212e+01        37.00        37.00   \n",
       "4            Tenure  10002  5.012498e+00         5.00         2.00   \n",
       "5           Balance  10002  7.649111e+04     97198.54         0.00   \n",
       "6     NumOfProducts  10002  1.530194e+00         1.00         1.00   \n",
       "7         HasCrCard  10002  7.055589e-01         1.00         1.00   \n",
       "8    IsActiveMember  10002  5.149970e-01         1.00         1.00   \n",
       "9   EstimatedSalary  10002  1.000833e+05    100185.24     24924.92   \n",
       "10           Exited  10002  2.037592e-01         0.00         0.00   \n",
       "\n",
       "        Minimum      Maximum           Q1            Q3          IQR  \\\n",
       "0          1.00     10000.00      2501.25  7.501750e+03    5000.5000   \n",
       "1   15565701.00  15815690.00  15628524.75  1.575323e+07  124700.7500   \n",
       "2        350.00       850.00       584.00  7.180000e+02     134.0000   \n",
       "3         18.00        92.00        32.00  4.400000e+01      12.0000   \n",
       "4          0.00        10.00         3.00  7.000000e+00       4.0000   \n",
       "5          0.00    250898.09         0.00  1.276478e+05  127647.8400   \n",
       "6          1.00         4.00         1.00  2.000000e+00       1.0000   \n",
       "7          0.00         1.00         0.00  1.000000e+00       1.0000   \n",
       "8          0.00         1.00         0.00  1.000000e+00       1.0000   \n",
       "9         11.58    199992.48     50983.75  1.493837e+05   98399.9025   \n",
       "10         0.00         1.00         0.00  0.000000e+00       0.0000   \n",
       "\n",
       "             Std      skewness  kurtosis      Variance  Standard Deviation  \n",
       "0    2887.472338 -8.301804e-07 -1.200001  8.337497e+06         2887.472338  \n",
       "1   71931.769345  1.379949e-03 -1.195972  5.174179e+09        71931.769345  \n",
       "2      96.661615 -7.187787e-02 -0.426340  9.343468e+03           96.661615  \n",
       "3      10.486693  1.011392e+00  1.396161  1.099707e+02           10.486693  \n",
       "4       2.891973  1.126740e-02 -1.165051  8.363507e+00            2.891973  \n",
       "5   62393.474144 -1.412948e-01 -1.489231  3.892946e+09        62393.474144  \n",
       "6       0.581639  7.454846e-01  0.582777  3.383043e-01            0.581639  \n",
       "7       0.455814 -9.021225e-01 -1.186412  2.077663e-01            0.455814  \n",
       "8       0.499800 -6.002401e-02 -1.996796  2.498001e-01            0.499800  \n",
       "9   57508.117802  2.320765e-03 -1.181446  3.307184e+09        57508.117802  \n",
       "10      0.402812  1.471157e+00  0.164336  1.622576e-01            0.402812  "
      ]
     },
     "execution_count": 10,
     "metadata": {},
     "output_type": "execute_result"
    }
   ],
   "source": [
    "# Exploratory Data Analysis\n",
    "# Univariate Analysis\n",
    "\n",
    "stats = []\n",
    "\n",
    "from collections import OrderedDict\n",
    "\n",
    "for i in numerical_col.columns:\n",
    "    numerical_stats = OrderedDict({\n",
    "        'Feauture' : i,\n",
    "        'Count' : df[i].count(),\n",
    "        'Mean' : df[i].mean(),\n",
    "        'Median' : df[i].median(),\n",
    "        'Mode' : df[i].mode()[0],\n",
    "        'Minimum' : df[i].min(),\n",
    "        'Maximum' : df[i].max(),\n",
    "        'Q1' : df[i].quantile(0.25),\n",
    "        'Q3' : df[i].quantile(0.75),\n",
    "        'IQR' : df[i].quantile(0.75) - df[i].quantile(0.25), #IQR cannot be 0\n",
    "        'Std' : df[i].std(),\n",
    "        'skewness' : df[i].skew(), #positive skewness (right skew), negative skewness (left skew), and zero skewness (symmetrical distribution, i.e. normal data)\n",
    "        'kurtosis' : df[i].kurtosis(), # mesokurtic, leptokurtic, and platykurtic.\n",
    "        'Variance' : df[i].var(), #spread of data\n",
    "        'Standard Deviation' : df[i].std() # distance between mean and data point, under root variance\n",
    "    })\n",
    "\n",
    "    stats.append(numerical_stats)\n",
    "    report = pd.DataFrame(stats)\n",
    "report"
   ]
  },
  {
   "cell_type": "code",
   "execution_count": 11,
   "id": "6d57b517-7bfc-4402-af2f-c7a6cd42876d",
   "metadata": {},
   "outputs": [
    {
     "data": {
      "text/plain": [
       "Exited\n",
       "0    7964\n",
       "1    2038\n",
       "Name: count, dtype: int64"
      ]
     },
     "execution_count": 11,
     "metadata": {},
     "output_type": "execute_result"
    }
   ],
   "source": [
    "df['Exited'].value_counts()"
   ]
  },
  {
   "cell_type": "code",
   "execution_count": 12,
   "id": "eaf7d40a-3c50-4e68-bdd7-04e43175fd7a",
   "metadata": {},
   "outputs": [],
   "source": [
    "# Use label Encoding Technique\n",
    "from sklearn.preprocessing import LabelEncoder\n",
    "\n",
    "le = LabelEncoder()\n",
    "for i in categorical_col.columns:\n",
    "    df[i] = le.fit_transform(df[i])"
   ]
  },
  {
   "cell_type": "code",
   "execution_count": 13,
   "id": "5df3a2f3-6917-448a-87bb-5ed97fa485db",
   "metadata": {},
   "outputs": [
    {
     "data": {
      "text/plain": [
       "Exited\n",
       "0    5563\n",
       "1    5563\n",
       "Name: count, dtype: int64"
      ]
     },
     "execution_count": 13,
     "metadata": {},
     "output_type": "execute_result"
    }
   ],
   "source": [
    "#Preventing Data Leakage\n",
    "\n",
    "# Step 01: Split the dataset in X and y\n",
    "# Where X: Independent Column and y: Dependent Column : Target column\n",
    "X = df.drop(columns = ['RowNumber','CustomerId','Surname','Exited'],axis = 1) # drops inside X, but presnt in df\n",
    "y = df['Exited']\n",
    "\n",
    "# Step 02: Using Train Test Split\n",
    "#test_size lies between 0.20 to 0.35(20-30 is enough)\n",
    "\n",
    "X_train, X_test, y_train, y_test = train_test_split(X, y, test_size = 0.30, random_state = 42) \n",
    "\n",
    "# Step 3:\n",
    "# df['loan_status'].value_counts()\n",
    "from imblearn.over_sampling import SMOTE,ADASYN,SMOTENC\n",
    "# from imblearn.under_sampling import AllKNN,ClusterCentroids\n",
    "\n",
    "sm = SMOTE(random_state=42)\n",
    "X_train, y_train = sm.fit_resample(X_train, y_train) #we do sampling on training data\n",
    "y_train.value_counts()\n",
    "# Step 03: Using Scaling Technique\n"
   ]
  },
  {
   "cell_type": "code",
   "execution_count": 14,
   "id": "19e263cc-f753-4519-a83f-77549b8ad177",
   "metadata": {},
   "outputs": [],
   "source": [
    "sc = RobustScaler()\n",
    "\n",
    "#Seen data\n",
    "X_train = sc.fit_transform(X_train)\n",
    "\n",
    "# Unseen Data\n",
    "X_test = sc.transform(X_test)"
   ]
  },
  {
   "cell_type": "code",
   "execution_count": 15,
   "id": "8017656b-3759-4c35-9541-fcfa9d603c59",
   "metadata": {},
   "outputs": [
    {
     "name": "stdout",
     "output_type": "stream",
     "text": [
      "The Model Accuracy for the Random Forest Classifier:  0.8417194268577141\n"
     ]
    }
   ],
   "source": [
    "from sklearn.ensemble import RandomForestClassifier\n",
    "from sklearn.metrics import accuracy_score\n",
    "\n",
    "RF = RandomForestClassifier().fit(X_train,y_train)\n",
    "y_pred_RF = RF.predict(X_test)\n",
    "\n",
    "print('The Model Accuracy for the Random Forest Classifier: ',accuracy_score(y_test,y_pred_RF))"
   ]
  },
  {
   "cell_type": "code",
   "execution_count": 16,
   "id": "d85e42e2-9aa3-4551-a34a-a8d50755a91f",
   "metadata": {},
   "outputs": [
    {
     "name": "stdout",
     "output_type": "stream",
     "text": [
      "Model Accuracy for Gradient Boosting Classifier: 0.8483838720426524\n"
     ]
    }
   ],
   "source": [
    "from sklearn.ensemble import GradientBoostingClassifier\n",
    "\n",
    "gbr = GradientBoostingClassifier().fit(X_train,y_train)\n",
    "y_pred_gbr = gbr.predict(X_test)\n",
    "\n",
    "print('Model Accuracy for Gradient Boosting Classifier:',accuracy_score(y_test,y_pred_gbr))"
   ]
  },
  {
   "cell_type": "code",
   "execution_count": 17,
   "id": "3104437c-2424-4560-a3df-ff1f37e53cf1",
   "metadata": {},
   "outputs": [
    {
     "name": "stdout",
     "output_type": "stream",
     "text": [
      "The Accuracy score for XGBoost: 0.8520493168943686\n"
     ]
    }
   ],
   "source": [
    "from xgboost import XGBClassifier\n",
    "\n",
    "XGB = XGBClassifier(random_state = 42).fit(X_train, y_train)\n",
    "y_pred_XGB = XGB.predict(X_test)\n",
    "\n",
    "print(f'The Accuracy score for XGBoost:', accuracy_score(y_test, y_pred_XGB))"
   ]
  },
  {
   "cell_type": "code",
   "execution_count": 18,
   "id": "dbd3c3c5-53f7-4938-b558-c0bbeba96389",
   "metadata": {},
   "outputs": [
    {
     "name": "stdout",
     "output_type": "stream",
     "text": [
      "The Accuracy score for SGD Classifier: 0.6837720759746752\n"
     ]
    }
   ],
   "source": [
    "from sklearn.linear_model import SGDClassifier\n",
    "\n",
    "SGD = SGDClassifier(random_state = 42).fit(X_train, y_train)\n",
    "y_pred_SGD = SGD.predict(X_test)\n",
    "\n",
    "print(f'The Accuracy score for SGD Classifier:', accuracy_score(y_test, y_pred_SGD))"
   ]
  },
  {
   "cell_type": "code",
   "execution_count": 19,
   "id": "3f8551d9-234b-40e7-ade5-2efdc2bc7add",
   "metadata": {},
   "outputs": [
    {
     "name": "stdout",
     "output_type": "stream",
     "text": [
      "The cluster assignments for K-Means: 0.42085971342885703\n"
     ]
    }
   ],
   "source": [
    "from sklearn.cluster import KMeans\n",
    "\n",
    "KMEANS = KMeans(n_clusters=3, random_state=42).fit(X_train)\n",
    "y_pred_KMEANS = KMEANS.predict(X_test)\n",
    "\n",
    "print(f'The cluster assignments for K-Means:', accuracy_score(y_test,y_pred_KMEANS))"
   ]
  },
  {
   "cell_type": "code",
   "execution_count": 20,
   "id": "18a8e1cf-5957-473d-b187-f27397767887",
   "metadata": {},
   "outputs": [
    {
     "name": "stdout",
     "output_type": "stream",
     "text": [
      "The Accuracy score for KNN: 0.7650783072309231\n"
     ]
    }
   ],
   "source": [
    "from sklearn.neighbors import KNeighborsClassifier\n",
    "\n",
    "KNN = KNeighborsClassifier().fit(X_train, y_train)\n",
    "y_pred_KNN = KNN.predict(X_test)\n",
    "\n",
    "print(f'The Accuracy score for KNN:', accuracy_score(y_test, y_pred_KNN))"
   ]
  },
  {
   "cell_type": "code",
   "execution_count": 21,
   "id": "a4a74d60-69e5-4be1-95aa-dee8c7b450d7",
   "metadata": {},
   "outputs": [
    {
     "name": "stdout",
     "output_type": "stream",
     "text": [
      "Fitting 5 folds for each of 50 candidates, totalling 250 fits\n",
      "Best Params: {'n_estimators': 200, 'min_samples_split': 2, 'min_samples_leaf': 1, 'max_features': 'log2', 'max_depth': 20, 'bootstrap': False}\n",
      "Best Score: 0.8837103082063862\n"
     ]
    }
   ],
   "source": [
    "from sklearn.ensemble import RandomForestClassifier\n",
    "from sklearn.model_selection import RandomizedSearchCV\n",
    "from sklearn.metrics import classification_report\n",
    "import numpy as np\n",
    "\n",
    "# Initialize model\n",
    "rf = RandomForestClassifier(random_state=42)\n",
    "\n",
    "# Define parameter distribution\n",
    "param_dist = {\n",
    "    'n_estimators': [100, 200, 300, 400, 500],\n",
    "    'max_depth': [None, 10, 20, 30, 40],\n",
    "    'min_samples_split': [2, 5, 10],\n",
    "    'min_samples_leaf': [1, 2, 4],\n",
    "    'max_features': ['auto', 'sqrt', 'log2'],\n",
    "    'bootstrap': [True, False]\n",
    "}\n",
    "\n",
    "# Setup RandomizedSearchCV\n",
    "random_search = RandomizedSearchCV(\n",
    "    estimator=rf,\n",
    "    param_distributions=param_dist,\n",
    "    n_iter=50,\n",
    "    cv=5,\n",
    "    verbose=2,\n",
    "    random_state=42,\n",
    "    n_jobs=-1,\n",
    "    scoring='accuracy'\n",
    ")\n",
    "\n",
    "# Fit model\n",
    "random_search.fit(X_train, y_train)\n",
    "\n",
    "# Results\n",
    "print(\"Best Params:\", random_search.best_params_)\n",
    "print(\"Best Score:\", random_search.best_score_)\n",
    "\n",
    "# Prediction & Evaluation\n",
    "# y_pred = random_search.predict(X_test)\n",
    "# print(classification_report(y_test, y_pred))"
   ]
  },
  {
   "cell_type": "code",
   "execution_count": 22,
   "id": "5f1dc277-5541-44a3-9571-9c9c7dd98524",
   "metadata": {},
   "outputs": [
    {
     "data": {
      "text/plain": [
       "<Axes: xlabel='Exited', ylabel='Density'>"
      ]
     },
     "execution_count": 22,
     "metadata": {},
     "output_type": "execute_result"
    },
    {
     "data": {
      "image/png": "[encoded data removed]",
      "text/plain": [
       "<Figure size 640x480 with 1 Axes>"
      ]
     },
     "metadata": {},
     "output_type": "display_data"
    }
   ],
   "source": [
    "sns.distplot(y_test-y_pred_RF)"
   ]
  },
  {
   "cell_type": "code",
   "execution_count": null,
   "id": "0a6bac33-94a2-4308-b9b9-dd6768ce1fbb",
   "metadata": {},
   "outputs": [],
   "source": []
  }
 ],
 "metadata": {
  "kernelspec": {
   "display_name": "Python 3",
   "language": "python",
   "name": "python3"
  },
  "language_info": {
   "codemirror_mode": {
    "name": "ipython",
    "version": 3
   },
   "file_extension": ".py",
   "mimetype": "text/x-python",
   "name": "python",
   "nbconvert_exporter": "python",
   "pygments_lexer": "ipython3",
   "version": "3.12.3"
  }
 },
 "nbformat": 4,
 "nbformat_minor": 5
}
